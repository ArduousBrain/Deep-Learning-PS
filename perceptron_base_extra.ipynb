{
  "nbformat": 4,
  "nbformat_minor": 0,
  "metadata": {
    "colab": {
      "provenance": [],
      "include_colab_link": true
    },
    "kernelspec": {
      "name": "python3",
      "display_name": "Python 3"
    },
    "language_info": {
      "name": "python"
    },
    "gpuClass": "standard"
  },
  "cells": [
    {
      "cell_type": "markdown",
      "metadata": {
        "id": "view-in-github",
        "colab_type": "text"
      },
      "source": [
        "<a href=\"https://colab.research.google.com/github/ArduousBrain/Deep-Learning-PS/blob/master/perceptron_base_extra.ipynb\" target=\"_parent\"><img src=\"https://colab.research.google.com/assets/colab-badge.svg\" alt=\"Open In Colab\"/></a>"
      ]
    },
    {
      "cell_type": "code",
      "source": [
        "import numpy as np"
      ],
      "metadata": {
        "id": "NgPnomslmF6G"
      },
      "execution_count": 1,
      "outputs": []
    },
    {
      "cell_type": "code",
      "source": [
        "class Perceptron(object):\n",
        "\n",
        "  def __init__(self, no_of_inputs, threshold=5, learning_rate=0.01):\n",
        "    self.threshold = threshold\n",
        "    self.learning_rate = learning_rate\n",
        "    self.weights = np.zeros(no_of_inputs + 1)\n",
        "\n",
        "  def predict(self, inputs):\n",
        "    summation = np.dot(inputs, self.weights[1:]) + self.weights[0]\n",
        "\n",
        "    if summation>0:\n",
        "      activation = 1\n",
        "    else:\n",
        "      activation = 0\n",
        "    \n",
        "    return activation\n",
        "\n",
        "  def train(self, training_inputs, labels):\n",
        "    for _ in range(self.threshold):\n",
        "      for inputs, label in zip(training_inputs, labels):\n",
        "        prediction = self.predict(inputs)\n",
        "        self.weights[1:] += self.learning_rate * (label - prediction) * inputs\n",
        "        self.weights[0] += self.learning_rate * (label - prediction)\n",
        "        print(self.weights)\n"
      ],
      "metadata": {
        "id": "pa0siYfQqgt7"
      },
      "execution_count": 2,
      "outputs": []
    },
    {
      "cell_type": "code",
      "source": [
        "training_inputs = []\n",
        "training_inputs.append(np.array([1,1]))\n",
        "training_inputs.append(np.array([1,0]))\n",
        "training_inputs.append(np.array([0,1]))\n",
        "training_inputs.append(np.array([0,0]))\n",
        "\n",
        "labels = np.array([1,0,0,0])\n",
        "\n",
        "perceptron = Perceptron(2)\n",
        "perceptron.train(training_inputs, labels)\n",
        "\n",
        "inputs = np.array([1,1])\n",
        "print(perceptron.predict(inputs))"
      ],
      "metadata": {
        "colab": {
          "base_uri": "https://localhost:8080/"
        },
        "id": "9aQ7IiEbtoWd",
        "outputId": "a15c605c-4573-4f5b-a9cb-864fadbb9499"
      },
      "execution_count": 3,
      "outputs": [
        {
          "output_type": "stream",
          "name": "stdout",
          "text": [
            "[0.01 0.01 0.01]\n",
            "[0.   0.   0.01]\n",
            "[-0.01  0.    0.  ]\n",
            "[-0.01  0.    0.  ]\n",
            "[0.   0.01 0.01]\n",
            "[-0.01  0.    0.01]\n",
            "[-0.01  0.    0.01]\n",
            "[-0.01  0.    0.01]\n",
            "[0.   0.01 0.02]\n",
            "[-0.01  0.    0.02]\n",
            "[-0.02  0.    0.01]\n",
            "[-0.02  0.    0.01]\n",
            "[-0.01  0.01  0.02]\n",
            "[-0.01  0.01  0.02]\n",
            "[-0.02  0.01  0.01]\n",
            "[-0.02  0.01  0.01]\n",
            "[-0.01  0.02  0.02]\n",
            "[-0.02  0.01  0.02]\n",
            "[-0.02  0.01  0.02]\n",
            "[-0.02  0.01  0.02]\n",
            "1\n"
          ]
        }
      ]
    },
    {
      "cell_type": "code",
      "source": [],
      "metadata": {
        "id": "pcYkT96SwopV"
      },
      "execution_count": null,
      "outputs": []
    }
  ]
}