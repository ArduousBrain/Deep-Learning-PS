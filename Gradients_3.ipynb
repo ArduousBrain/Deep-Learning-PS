{
  "nbformat": 4,
  "nbformat_minor": 0,
  "metadata": {
    "colab": {
      "provenance": [],
      "include_colab_link": true
    },
    "kernelspec": {
      "name": "python3",
      "display_name": "Python 3"
    },
    "language_info": {
      "name": "python"
    }
  },
  "cells": [
    {
      "cell_type": "markdown",
      "metadata": {
        "id": "view-in-github",
        "colab_type": "text"
      },
      "source": [
        "<a href=\"https://colab.research.google.com/github/ArduousBrain/Deep-Learning-PS/blob/master/Gradients_3.ipynb\" target=\"_parent\"><img src=\"https://colab.research.google.com/assets/colab-badge.svg\" alt=\"Open In Colab\"/></a>"
      ]
    },
    {
      "cell_type": "code",
      "execution_count": null,
      "metadata": {
        "colab": {
          "base_uri": "https://localhost:8080/"
        },
        "id": "sy4STeYmy_YE",
        "outputId": "2cb09b73-9fae-4f70-da93-ff065f30bca8"
      },
      "outputs": [
        {
          "output_type": "stream",
          "name": "stdout",
          "text": [
            "weights:  5.607360669301079 Bias:  0.7319774337026114\n",
            "Error:  12286.500019633295\n"
          ]
        }
      ],
      "source": [
        "import numpy as np\n",
        "\n",
        "X = [2,3,4,5,6,7,8,9,10]\n",
        "Y = [4,9,16,25,36,49,64,81,100]\n",
        "\n",
        "def f(w,b,x): #sigmoid function/ f(x)\n",
        "  return 1.0/(1 + np.exp(-(w*x + b)))\n",
        "\n",
        "def err(w,b):\n",
        "  err = 0\n",
        "  for x,y in zip(X,Y):\n",
        "    fx = f(w,b,x)\n",
        "    err += 0.5 * (fx - y)**2\n",
        "  return err\n",
        "\n",
        "def grad_w(w,b,x,y):\n",
        "  fx = f(w,b,x)\n",
        "  return (fx - y)* fx * (1-fx) * x\n",
        "\n",
        "def grad_b(w,b,x,y):\n",
        "  fx = f(w,b,x)\n",
        "  return (fx - y)* fx * (1-fx) \n",
        "\n",
        "def do_grad_descent():\n",
        "  w,b,eta,max_epoch = -2,-2,1,10000\n",
        "  for i in range(max_epoch):\n",
        "    dw, db = 0,0\n",
        "    for x,y in zip(X,Y):\n",
        "      dw += grad_w(w,b,x,y)\n",
        "      db += grad_b(w,b,x,y)\n",
        "    w = w - eta * dw\n",
        "    b = b - eta * db\n",
        "    error = err(w,b)\n",
        "\n",
        "  print('weights: ', w, 'Bias: ', b)\n",
        "  print('Error: ', error)\n",
        "\n",
        "def do_momentum_gradient_descent (init_w , init_b ,max_epochs) :\n",
        "   w , b , eta = init_w , init_b , 1.0\n",
        "   prev_v_w , prev_v_b , gamma = 0 , 0 , 0.9\n",
        "   for i in range ( max_epochs ) :\n",
        "        dw , db = 0 , 0\n",
        "        for x , y in zip ( X , Y ) :\n",
        "            dw + grad_w ( w , b , x , y )\n",
        "            db += grad_b ( w , b , x , y )\n",
        "        v_w = gamma * prev_v_w + eta * dw\n",
        "        v_b = gamma * prev_v_b + eta * db\n",
        "        w = w - v_w\n",
        "        b = b - v_b\n",
        "        prev_v_w = v_w\n",
        "        prev_v_b = v_b\n",
        "        \n",
        "def do_nesterov_accelerated_gradient_descent (init_w , init_b, max_epochs) :\n",
        "   w , b , eta = init_w , init_b, 1.0\n",
        "   prev_v_w , prev_v_b , gamma = 0 , 0 , 0.9\n",
        "   for i in range ( max_epochs ) :\n",
        "       dw , db = 0 , 0\n",
        "       #do partial updates\n",
        "       v_w = gamma * prev_v_w\n",
        "       v_b = gamma * prev_v_b\n",
        "       for x , y in zip ( X , Y ) :\n",
        "           #calculate gradients after partial update\n",
        "           dw += grad_w (w - v_w , b - v_b , x , y )\n",
        "\n",
        "           db += grad_b (w  - v_w , b - v_b , x , y )\n",
        "\n",
        "      \n",
        "       #now do the full update\n",
        "       v_w = gamma * prev_v_w + eta * dw\n",
        "       v_b = gamma * prev_v_b + eta * db\n",
        "       \n",
        "       w = w - v_w\n",
        "       b = b - v_b\n",
        "       prev_v_w = v_w\n",
        "       prev_v_b = v_b"
      ]
    },
    {
      "cell_type": "code",
      "source": [
        "def prediction(w,b,x):\n",
        "  fx = f(w,b,x)\n",
        "  return fx\n",
        "\n",
        "print(prediction(5.607360669301079, 0.7319774337026114, 5))"
      ],
      "metadata": {
        "colab": {
          "base_uri": "https://localhost:8080/"
        },
        "id": "yhhwZFEh4rPH",
        "outputId": "366c0dc4-e033-4de0-c69d-314a147000c1"
      },
      "execution_count": null,
      "outputs": [
        {
          "output_type": "stream",
          "name": "stdout",
          "text": [
            "0.9999999999996794\n"
          ]
        }
      ]
    },
    {
      "cell_type": "code",
      "source": [
        "import matplotlib.pyplot as plt\n",
        "import numpy as np\n",
        "import math\n",
        "\n",
        "w = 5.607360669301079\n",
        "b = 0.7319774337026114\n",
        "x = np.linspace(-10, 10, 100)\n",
        "z = 1/(1 + np.exp(-w*x + b))\n",
        "  \n",
        "plt.plot(x, z)\n",
        "plt.xlabel(\"x\")\n",
        "plt.ylabel(\"Sigmoid(X)\")\n",
        "  \n",
        "plt.show()"
      ],
      "metadata": {
        "colab": {
          "base_uri": "https://localhost:8080/",
          "height": 279
        },
        "id": "VZyqJjYQ6J0U",
        "outputId": "a9902f63-2a27-44be-eff6-a5b77ae66bf1"
      },
      "execution_count": null,
      "outputs": [
        {
          "output_type": "display_data",
          "data": {
            "text/plain": [
              "<Figure size 432x288 with 1 Axes>"
            ],
            "image/png": "[encoded data removed]"
          },
          "metadata": {
            "needs_background": "light"
          }
        }
      ]
    },
    {
      "cell_type": "code",
      "source": [],
      "metadata": {
        "id": "X1JyG4-v6kQL"
      },
      "execution_count": null,
      "outputs": []
    }
  ]
}